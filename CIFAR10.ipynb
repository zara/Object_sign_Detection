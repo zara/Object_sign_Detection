{
  "nbformat": 4,
  "nbformat_minor": 0,
  "metadata": {
    "colab": {
      "name": "CIFAR10.ipynb",
      "provenance": []
    },
    "kernelspec": {
      "name": "python3",
      "display_name": "Python 3"
    },
    "accelerator": "GPU"
  },
  "cells": [
    {
      "cell_type": "code",
      "metadata": {
        "id": "tQValLzGB2sF",
        "colab_type": "code",
        "colab": {}
      },
      "source": [
        "from google.colab import drive\n",
        "drive.mount('/content/drive')"
      ],
      "execution_count": 0,
      "outputs": []
    },
    {
      "cell_type": "code",
      "metadata": {
        "id": "QfTmM0tyB5lX",
        "colab_type": "code",
        "colab": {}
      },
      "source": [
        "pip install tensorflow==2.1.0"
      ],
      "execution_count": 0,
      "outputs": []
    },
    {
      "cell_type": "code",
      "metadata": {
        "id": "kUuIEbo0B9-I",
        "colab_type": "code",
        "colab": {}
      },
      "source": [
        "pip install tensorflow-gpu"
      ],
      "execution_count": 0,
      "outputs": []
    },
    {
      "cell_type": "code",
      "metadata": {
        "id": "G5kBzjadB-zL",
        "colab_type": "code",
        "outputId": "bc19d3eb-af17-4e7a-c6cc-0b15de6e8014",
        "colab": {
          "base_uri": "https://localhost:8080/",
          "height": 68
        }
      },
      "source": [
        "!ls \"/content/drive/My Drive\" -a"
      ],
      "execution_count": 0,
      "outputs": [
        {
          "output_type": "stream",
          "text": [
            " 254932290-Duda-Problemsolutions.pdf  'How to get started with Drive.pdf'\n",
            " AIROBOT\t\t\t       Machine_Learning\n",
            "'Colab Notebooks'\n"
          ],
          "name": "stdout"
        }
      ]
    },
    {
      "cell_type": "code",
      "metadata": {
        "id": "yTUa43tzCbrP",
        "colab_type": "code",
        "outputId": "e8799dbb-5d98-43e7-c3b2-94e2e226d678",
        "colab": {
          "base_uri": "https://localhost:8080/",
          "height": 34
        }
      },
      "source": [
        "import tensorflow as tf\n",
        "print(tf.__version__)"
      ],
      "execution_count": 0,
      "outputs": [
        {
          "output_type": "stream",
          "text": [
            "2.1.0\n"
          ],
          "name": "stdout"
        }
      ]
    },
    {
      "cell_type": "code",
      "metadata": {
        "id": "cgdunDMOL-VX",
        "colab_type": "code",
        "outputId": "7e277e4f-bad5-4a00-b7f0-747ea098a982",
        "colab": {
          "base_uri": "https://localhost:8080/",
          "height": 34
        }
      },
      "source": [
        "%cd /content/drive/My Drive/"
      ],
      "execution_count": 0,
      "outputs": [
        {
          "output_type": "stream",
          "text": [
            "/content/drive/My Drive\n"
          ],
          "name": "stdout"
        }
      ]
    },
    {
      "cell_type": "code",
      "metadata": {
        "id": "925yjiY0MJ8w",
        "colab_type": "code",
        "outputId": "4db5ac3e-8823-45a4-ca3e-18e41f8e5e81",
        "colab": {
          "base_uri": "https://localhost:8080/",
          "height": 68
        }
      },
      "source": [
        "! ls"
      ],
      "execution_count": 0,
      "outputs": [
        {
          "output_type": "stream",
          "text": [
            " 254932290-Duda-Problemsolutions.pdf  'How to get started with Drive.pdf'\n",
            " AIROBOT\t\t\t       Machine_Learning\n",
            "'Colab Notebooks'\n"
          ],
          "name": "stdout"
        }
      ]
    },
    {
      "cell_type": "code",
      "metadata": {
        "id": "kh7ZYgHID1NI",
        "colab_type": "code",
        "colab": {}
      },
      "source": [
        "import datetime\n",
        "import tensorflow as tf\n",
        "from tensorflow import keras\n",
        "from tensorflow.keras.callbacks import TensorBoard, LearningRateScheduler\n",
        "from Machine_Learning import cresnet\n"
      ],
      "execution_count": 0,
      "outputs": []
    },
    {
      "cell_type": "markdown",
      "metadata": {
        "colab_type": "text",
        "id": "5IAvVELwRrM5"
      },
      "source": [
        "### Main part"
      ]
    },
    {
      "cell_type": "code",
      "metadata": {
        "colab_type": "code",
        "id": "SJr-80HpRrMx",
        "colab": {}
      },
      "source": [
        "def preprocess(x, y):\n",
        "    x = tf.image.per_image_standardization(x)\n",
        "    return x, y\n",
        "\n",
        "def augmentation(x, y):\n",
        "    x = tf.image.resize_with_crop_or_pad(x, 40, 40)\n",
        "    x = tf.image.random_crop(x, [32, 32, 3])\n",
        "    x = tf.image.random_flip_left_right(x)\n",
        "    return x, y\n",
        "\n",
        "def schedule():\n",
        "    initial_learning_rate = 0.1 "
      ],
      "execution_count": 0,
      "outputs": []
    },
    {
      "cell_type": "code",
      "metadata": {
        "colab_type": "code",
        "outputId": "de53f5fb-8609-4d1d-897d-7a24506574be",
        "id": "7ncy5uSDRrMo",
        "colab": {
          "base_uri": "https://localhost:8080/",
          "height": 51
        }
      },
      "source": [
        "(x, y), (x_test, y_test) = keras.datasets.cifar10.load_data()"
      ],
      "execution_count": 0,
      "outputs": [
        {
          "output_type": "stream",
          "text": [
            "Downloading data from https://www.cs.toronto.edu/~kriz/cifar-10-python.tar.gz\n",
            "170500096/170498071 [==============================] - 4s 0us/step\n"
          ],
          "name": "stdout"
        }
      ]
    },
    {
      "cell_type": "code",
      "metadata": {
        "colab_type": "code",
        "id": "mkPXUnWXRrMg",
        "colab": {}
      },
      "source": [
        "train_data = tf.data.Dataset.from_tensor_slices((x, y))\n",
        "del x\n",
        "del y"
      ],
      "execution_count": 0,
      "outputs": []
    },
    {
      "cell_type": "code",
      "metadata": {
        "colab_type": "code",
        "id": "cfqMdYRERrMZ",
        "colab": {}
      },
      "source": [
        "test_data = tf.data.Dataset.from_tensor_slices((x_test, y_test))\n",
        "del x_test\n",
        "del y_test"
      ],
      "execution_count": 0,
      "outputs": []
    },
    {
      "cell_type": "code",
      "metadata": {
        "colab_type": "code",
        "outputId": "699456f8-1493-4ef9-caf8-8e6464469a1a",
        "id": "tVsTQkRtRrME",
        "colab": {
          "base_uri": "https://localhost:8080/",
          "height": 88
        }
      },
      "source": [
        "tf.random.set_seed(52)\n",
        "train_data = train_data.map(augmentation).map(preprocess).shuffle(1000).batch(100, drop_remainder=True)\n",
        "test_data = test_data.map(preprocess).batch(200, drop_remainder=True)"
      ],
      "execution_count": 0,
      "outputs": [
        {
          "output_type": "stream",
          "text": [
            "WARNING:tensorflow:From /usr/local/lib/python3.6/dist-packages/tensorflow_core/python/ops/image_ops_impl.py:1556: div (from tensorflow.python.ops.math_ops) is deprecated and will be removed in a future version.\n",
            "Instructions for updating:\n",
            "Deprecated in favor of operator or tf.math.divide.\n"
          ],
          "name": "stdout"
        }
      ]
    },
    {
      "cell_type": "code",
      "metadata": {
        "colab_type": "code",
        "id": "ohw9VoqgRrLm",
        "colab": {}
      },
      "source": [
        "input_shape = (32, 32, 3)\n",
        "img_input = tf.keras.layers.Input(shape=input_shape)\n",
        "opt = keras.optimizers.SGD(learning_rate=0.1, momentum=0.9)"
      ],
      "execution_count": 0,
      "outputs": []
    },
    {
      "cell_type": "code",
      "metadata": {
        "colab_type": "code",
        "id": "EvfqbzBpRrLA",
        "colab": {}
      },
      "source": [
        "model = cresnet.resnet56(img_input=img_input, classes=10)\n",
        "model.compile(optimizer=opt, loss='sparse_categorical_crossentropy', metrics=['sparse_categorical_accuracy'])"
      ],
      "execution_count": 0,
      "outputs": []
    },
    {
      "cell_type": "code",
      "metadata": {
        "colab_type": "code",
        "outputId": "3c0fa464-3bcb-44fb-e9f9-ccebc220c1a0",
        "id": "dcaAOdfYRrKW",
        "colab": {
          "base_uri": "https://localhost:8080/",
          "height": 751
        }
      },
      "source": [
        "model.fit(train_data, epochs=20, validation_data=test_data, validation_freq=1)"
      ],
      "execution_count": 0,
      "outputs": [
        {
          "output_type": "stream",
          "text": [
            "Train for 500 steps, validate for 50 steps\n",
            "Epoch 1/20\n",
            "500/500 [==============================] - 48s 95ms/step - loss: 0.9304 - sparse_categorical_accuracy: 0.8268 - val_loss: 1.8440 - val_sparse_categorical_accuracy: 0.5831\n",
            "Epoch 2/20\n",
            "500/500 [==============================] - 47s 95ms/step - loss: 0.9278 - sparse_categorical_accuracy: 0.8297 - val_loss: 2.0645 - val_sparse_categorical_accuracy: 0.5850\n",
            "Epoch 3/20\n",
            "500/500 [==============================] - 48s 95ms/step - loss: 0.9264 - sparse_categorical_accuracy: 0.8348 - val_loss: 1.6984 - val_sparse_categorical_accuracy: 0.6350\n",
            "Epoch 4/20\n",
            "500/500 [==============================] - 47s 95ms/step - loss: 0.9251 - sparse_categorical_accuracy: 0.8355 - val_loss: 1.8186 - val_sparse_categorical_accuracy: 0.6094\n",
            "Epoch 5/20\n",
            "500/500 [==============================] - 47s 95ms/step - loss: 0.9244 - sparse_categorical_accuracy: 0.8398 - val_loss: 1.8061 - val_sparse_categorical_accuracy: 0.6112\n",
            "Epoch 6/20\n",
            "500/500 [==============================] - 48s 95ms/step - loss: 0.9292 - sparse_categorical_accuracy: 0.8400 - val_loss: 1.6958 - val_sparse_categorical_accuracy: 0.6455\n",
            "Epoch 7/20\n",
            "500/500 [==============================] - 48s 96ms/step - loss: 0.9278 - sparse_categorical_accuracy: 0.8433 - val_loss: 1.9241 - val_sparse_categorical_accuracy: 0.5641\n",
            "Epoch 8/20\n",
            "500/500 [==============================] - 48s 96ms/step - loss: 0.9289 - sparse_categorical_accuracy: 0.8473 - val_loss: 2.4254 - val_sparse_categorical_accuracy: 0.5436\n",
            "Epoch 9/20\n",
            "500/500 [==============================] - 48s 95ms/step - loss: 0.9318 - sparse_categorical_accuracy: 0.8457 - val_loss: 1.9223 - val_sparse_categorical_accuracy: 0.6064\n",
            "Epoch 10/20\n",
            "500/500 [==============================] - 48s 95ms/step - loss: 0.9269 - sparse_categorical_accuracy: 0.8497 - val_loss: 1.8539 - val_sparse_categorical_accuracy: 0.6172\n",
            "Epoch 11/20\n",
            "500/500 [==============================] - 48s 96ms/step - loss: 0.9253 - sparse_categorical_accuracy: 0.8520 - val_loss: 2.4964 - val_sparse_categorical_accuracy: 0.5189\n",
            "Epoch 12/20\n",
            "500/500 [==============================] - 48s 95ms/step - loss: 0.9291 - sparse_categorical_accuracy: 0.8511 - val_loss: 2.3305 - val_sparse_categorical_accuracy: 0.5882\n",
            "Epoch 13/20\n",
            "500/500 [==============================] - 48s 96ms/step - loss: 0.9336 - sparse_categorical_accuracy: 0.8544 - val_loss: 2.1459 - val_sparse_categorical_accuracy: 0.5933\n",
            "Epoch 14/20\n",
            "500/500 [==============================] - 48s 95ms/step - loss: 0.9372 - sparse_categorical_accuracy: 0.8547 - val_loss: 1.9072 - val_sparse_categorical_accuracy: 0.6154\n",
            "Epoch 15/20\n",
            "500/500 [==============================] - 48s 95ms/step - loss: 0.9371 - sparse_categorical_accuracy: 0.8567 - val_loss: 1.9386 - val_sparse_categorical_accuracy: 0.6195\n",
            "Epoch 16/20\n",
            "500/500 [==============================] - 48s 96ms/step - loss: 0.9370 - sparse_categorical_accuracy: 0.8567 - val_loss: 2.0118 - val_sparse_categorical_accuracy: 0.5866\n",
            "Epoch 17/20\n",
            "500/500 [==============================] - 47s 95ms/step - loss: 0.9313 - sparse_categorical_accuracy: 0.8614 - val_loss: 2.1169 - val_sparse_categorical_accuracy: 0.6044\n",
            "Epoch 18/20\n",
            "500/500 [==============================] - 47s 95ms/step - loss: 0.9333 - sparse_categorical_accuracy: 0.8616 - val_loss: 2.2402 - val_sparse_categorical_accuracy: 0.5858\n",
            "Epoch 19/20\n",
            "500/500 [==============================] - 48s 96ms/step - loss: 0.9332 - sparse_categorical_accuracy: 0.8605 - val_loss: 1.8410 - val_sparse_categorical_accuracy: 0.6377\n",
            "Epoch 20/20\n",
            "500/500 [==============================] - 47s 95ms/step - loss: 0.9372 - sparse_categorical_accuracy: 0.8620 - val_loss: 2.2954 - val_sparse_categorical_accuracy: 0.5974\n"
          ],
          "name": "stdout"
        },
        {
          "output_type": "execute_result",
          "data": {
            "text/plain": [
              "<tensorflow.python.keras.callbacks.History at 0x7f7f8b61f6d8>"
            ]
          },
          "metadata": {
            "tags": []
          },
          "execution_count": 25
        }
      ]
    },
    {
      "cell_type": "code",
      "metadata": {
        "colab_type": "code",
        "id": "yEdrHGoqRrJ1",
        "colab": {}
      },
      "source": [
        ""
      ],
      "execution_count": 0,
      "outputs": []
    }
  ]
}