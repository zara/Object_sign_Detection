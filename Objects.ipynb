{
  "nbformat": 4,
  "nbformat_minor": 0,
  "metadata": {
    "colab": {
      "name": "Objects.ipynb",
      "provenance": [],
      "collapsed_sections": [],
      "machine_shape": "hm"
    },
    "kernelspec": {
      "name": "python3",
      "display_name": "Python 3"
    },
    "accelerator": "TPU"
  },
  "cells": [
    {
      "cell_type": "code",
      "metadata": {
        "id": "7cxyjlNkcyaw",
        "colab_type": "code",
        "colab": {}
      },
      "source": [
        "# COIL-100 data"
      ],
      "execution_count": 0,
      "outputs": []
    },
    {
      "cell_type": "code",
      "metadata": {
        "id": "ygoIein-KK75",
        "colab_type": "code",
        "colab": {}
      },
      "source": [
        "from google.colab import drive\n",
        "drive.mount('/content/drive')"
      ],
      "execution_count": 0,
      "outputs": []
    },
    {
      "cell_type": "code",
      "metadata": {
        "id": "spUPz4huKMmZ",
        "colab_type": "code",
        "colab": {}
      },
      "source": [
        "pip install tensorflow==2.1.0"
      ],
      "execution_count": 0,
      "outputs": []
    },
    {
      "cell_type": "code",
      "metadata": {
        "id": "QGmP3O9LKM2f",
        "colab_type": "code",
        "colab": {}
      },
      "source": [
        "pip install tensorflow-gpu"
      ],
      "execution_count": 0,
      "outputs": []
    },
    {
      "cell_type": "code",
      "metadata": {
        "id": "1ScJhS5_KX6Z",
        "colab_type": "code",
        "colab": {}
      },
      "source": [
        "!ls \"/content/drive/My Drive\" -a"
      ],
      "execution_count": 0,
      "outputs": []
    },
    {
      "cell_type": "code",
      "metadata": {
        "id": "JdvGyvmaKbfc",
        "colab_type": "code",
        "colab": {}
      },
      "source": [
        "import tensorflow as tf\n",
        "print(tf.__version__)"
      ],
      "execution_count": 0,
      "outputs": []
    },
    {
      "cell_type": "code",
      "metadata": {
        "id": "g4xwsCx_KepE",
        "colab_type": "code",
        "colab": {}
      },
      "source": [
        "import  os\n",
        "import  tensorflow as tf\n",
        "from    tensorflow import keras\n",
        "from    tensorflow.keras import layers, optimizers, datasets"
      ],
      "execution_count": 0,
      "outputs": []
    },
    {
      "cell_type": "code",
      "metadata": {
        "id": "itSti0rNKfTM",
        "colab_type": "code",
        "colab": {}
      },
      "source": [
        "from PIL import Image\n",
        "import numpy as np\n",
        "import os\n",
        "\n",
        "train_images = []\n",
        "train_labels = []\n",
        "count = 0\n",
        "\n",
        "for img_path in os.listdir('/content/drive/My Drive/Machine_Learning/VisionProject/'):\n",
        "      im = Image.open('/content/drive/My Drive/Machine_Learning/VisionProject/' + str(img_path))\n",
        "      im = im.resize((128, 128))\n",
        "      train_images.append(np.array(im))\n",
        "      x=img_path[3:5]\n",
        "      a=x.split('_')\n",
        "      train_labels.append(int(a[0]))   "
      ],
      "execution_count": 0,
      "outputs": []
    },
    {
      "cell_type": "code",
      "metadata": {
        "id": "rxxu8dqaexLD",
        "colab_type": "code",
        "outputId": "366069b9-44eb-4989-9b34-94c21be1cbf3",
        "colab": {
          "base_uri": "https://localhost:8080/",
          "height": 145
        }
      },
      "source": [
        "im"
      ],
      "execution_count": 0,
      "outputs": [
        {
          "output_type": "execute_result",
          "data": {
            "image/png": "[encoded data removed]",
            "text/plain": [
              "<PIL.Image.Image image mode=RGB size=128x128 at 0x7F1F24AA9470>"
            ]
          },
          "metadata": {
            "tags": []
          },
          "execution_count": 8
        }
      ]
    },
    {
      "cell_type": "code",
      "metadata": {
        "id": "cHyvjRdbKxZ0",
        "colab_type": "code",
        "colab": {}
      },
      "source": [
        "from sklearn.model_selection import train_test_split\n",
        "(x_train, x_val, y_train , y_val) = train_test_split(train_images, train_labels, test_size=0.2, random_state=42)\n"
      ],
      "execution_count": 0,
      "outputs": []
    },
    {
      "cell_type": "code",
      "metadata": {
        "id": "COtu0WP_oa_N",
        "colab_type": "code",
        "outputId": "25072315-04c9-4c22-e51e-d4e5beebd89b",
        "colab": {
          "base_uri": "https://localhost:8080/",
          "height": 34
        }
      },
      "source": [
        "def prepare_labels(x):\n",
        "  x = tf.cast(x, tf.float32) / 255.0\n",
        "  return x\n",
        "\n",
        "from keras.utils.np_utils import to_categorical\n",
        "\n",
        "one_hot_train_labels=to_categorical(y_train)\n",
        "one_hot_test_labels=to_categorical(y_val)\n",
        "\n",
        "x_train = prepare_labels(x_train)\n",
        "x_val = prepare_labels(x_val)\n"
      ],
      "execution_count": 0,
      "outputs": [
        {
          "output_type": "stream",
          "text": [
            "Using TensorFlow backend.\n"
          ],
          "name": "stderr"
        }
      ]
    },
    {
      "cell_type": "code",
      "metadata": {
        "id": "obYx9ZLkwKYz",
        "colab_type": "code",
        "outputId": "839253f3-ff61-4781-a3a7-3e020394ff73",
        "colab": {
          "base_uri": "https://localhost:8080/",
          "height": 34
        }
      },
      "source": [
        "x_train.shape"
      ],
      "execution_count": 0,
      "outputs": [
        {
          "output_type": "execute_result",
          "data": {
            "text/plain": [
              "TensorShape([5836, 128, 128, 3])"
            ]
          },
          "metadata": {
            "tags": []
          },
          "execution_count": 8
        }
      ]
    },
    {
      "cell_type": "code",
      "metadata": {
        "id": "fBDGYGSGLpl9",
        "colab_type": "code",
        "colab": {}
      },
      "source": [
        "os.environ['TF_CPP_MIN_LOG_LEVEL'] = '2'  # or any {'0', '1', '2'}\n",
        "\n",
        "from tensorflow.python.keras import models\n",
        "from tensorflow.python.keras import layers\n",
        "\n",
        "model=models.Sequential()\n",
        "model.add(layers.Conv2D(32,(3,3) , activation='relu',input_shape=(128, 128,3),))\n",
        "model.add(layers.MaxPooling2D((2,2)))\n",
        "model.add(layers.Conv2D(64, (3,3) , activation='relu')) #,padding='same'\n",
        "model.add(layers.MaxPooling2D((2,2)))\n",
        "model.add(layers.Conv2D(64,(3,3), activation='relu'))\n",
        "\n",
        "model.add(layers.Flatten())\n",
        "model.add(layers.Dense(512, activation='relu'))\n",
        "model.add(layers.Dense(128, activation='relu'))\n",
        "model.add(layers.Dense(100 , activation='softmax'))\n",
        "\n",
        "model.compile(optimizer='rmsprop',loss='categorical_crossentropy',metrics=['accuracy'])"
      ],
      "execution_count": 0,
      "outputs": []
    },
    {
      "cell_type": "code",
      "metadata": {
        "id": "pGOlL94n7gKX",
        "colab_type": "code",
        "outputId": "fdb1f2b2-b471-4f3f-c857-fa3e886a0dc9",
        "colab": {
          "base_uri": "https://localhost:8080/",
          "height": 357
        }
      },
      "source": [
        "model.fit(x_train, one_hot_train_labels,epochs=9 , batch_size=128)"
      ],
      "execution_count": 0,
      "outputs": [
        {
          "output_type": "stream",
          "text": [
            "Train on 5836 samples\n",
            "Epoch 1/9\n",
            "5836/5836 [==============================] - 21s 4ms/sample - loss: 3.6371 - accuracy: 0.2704\n",
            "Epoch 2/9\n",
            "5836/5836 [==============================] - 19s 3ms/sample - loss: 0.6632 - accuracy: 0.8256\n",
            "Epoch 3/9\n",
            "5836/5836 [==============================] - 20s 3ms/sample - loss: 0.3319 - accuracy: 0.9205\n",
            "Epoch 4/9\n",
            "5836/5836 [==============================] - 19s 3ms/sample - loss: 0.1935 - accuracy: 0.9573\n",
            "Epoch 5/9\n",
            "5836/5836 [==============================] - 19s 3ms/sample - loss: 0.0895 - accuracy: 0.9803\n",
            "Epoch 6/9\n",
            "5836/5836 [==============================] - 19s 3ms/sample - loss: 0.2051 - accuracy: 0.9621\n",
            "Epoch 7/9\n",
            "5836/5836 [==============================] - 19s 3ms/sample - loss: 0.0956 - accuracy: 0.9772\n",
            "Epoch 8/9\n",
            "5836/5836 [==============================] - 20s 3ms/sample - loss: 0.0848 - accuracy: 0.9868\n",
            "Epoch 9/9\n",
            "5836/5836 [==============================] - 19s 3ms/sample - loss: 0.0595 - accuracy: 0.9887\n"
          ],
          "name": "stdout"
        },
        {
          "output_type": "execute_result",
          "data": {
            "text/plain": [
              "<tensorflow.python.keras.callbacks.History at 0x7f1e0255b588>"
            ]
          },
          "metadata": {
            "tags": []
          },
          "execution_count": 12
        }
      ]
    },
    {
      "cell_type": "code",
      "metadata": {
        "id": "jwm-6Kp1AJoC",
        "colab_type": "code",
        "outputId": "15fcae19-5d22-4c57-ee97-141eb98e2207",
        "colab": {
          "base_uri": "https://localhost:8080/",
          "height": 459
        }
      },
      "source": [
        "model.summary()"
      ],
      "execution_count": 0,
      "outputs": [
        {
          "output_type": "stream",
          "text": [
            "Model: \"sequential\"\n",
            "_________________________________________________________________\n",
            "Layer (type)                 Output Shape              Param #   \n",
            "=================================================================\n",
            "conv2d (Conv2D)              (None, 126, 126, 32)      896       \n",
            "_________________________________________________________________\n",
            "max_pooling2d (MaxPooling2D) (None, 63, 63, 32)        0         \n",
            "_________________________________________________________________\n",
            "conv2d_1 (Conv2D)            (None, 61, 61, 64)        18496     \n",
            "_________________________________________________________________\n",
            "max_pooling2d_1 (MaxPooling2 (None, 30, 30, 64)        0         \n",
            "_________________________________________________________________\n",
            "conv2d_2 (Conv2D)            (None, 28, 28, 64)        36928     \n",
            "_________________________________________________________________\n",
            "flatten (Flatten)            (None, 50176)             0         \n",
            "_________________________________________________________________\n",
            "dense (Dense)                (None, 512)               25690624  \n",
            "_________________________________________________________________\n",
            "dense_1 (Dense)              (None, 128)               65664     \n",
            "_________________________________________________________________\n",
            "dense_2 (Dense)              (None, 100)               12900     \n",
            "=================================================================\n",
            "Total params: 25,825,508\n",
            "Trainable params: 25,825,508\n",
            "Non-trainable params: 0\n",
            "_________________________________________________________________\n"
          ],
          "name": "stdout"
        }
      ]
    },
    {
      "cell_type": "code",
      "metadata": {
        "id": "im1eqTNVAX19",
        "colab_type": "code",
        "outputId": "dd740678-0dc8-4b67-ccc2-8bf09e6feb2a",
        "colab": {
          "base_uri": "https://localhost:8080/",
          "height": 34
        }
      },
      "source": [
        "results=model.evaluate(x_val, one_hot_test_labels)"
      ],
      "execution_count": 0,
      "outputs": [
        {
          "output_type": "stream",
          "text": [
            "1459/1459 [==============================] - 1s 952us/sample - loss: 0.0108 - accuracy: 0.9959\n"
          ],
          "name": "stdout"
        }
      ]
    }
  ]
}