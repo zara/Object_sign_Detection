{
  "nbformat": 4,
  "nbformat_minor": 0,
  "metadata": {
    "colab": {
      "name": "driving_sign.ipynb",
      "provenance": [],
      "collapsed_sections": []
    },
    "kernelspec": {
      "name": "python3",
      "display_name": "Python 3"
    },
    "accelerator": "GPU"
  },
  "cells": [
    {
      "cell_type": "code",
      "metadata": {
        "id": "cOzoVq4t5ojO",
        "colab_type": "code",
        "colab": {}
      },
      "source": [
        "from google.colab import drive\n",
        "drive.mount('/content/drive')"
      ],
      "execution_count": 0,
      "outputs": []
    },
    {
      "cell_type": "code",
      "metadata": {
        "id": "TiFMp3Bc5qR3",
        "colab_type": "code",
        "colab": {}
      },
      "source": [
        "pip install tensorflow==2.1.0"
      ],
      "execution_count": 0,
      "outputs": []
    },
    {
      "cell_type": "code",
      "metadata": {
        "id": "VkzMHTki5qXq",
        "colab_type": "code",
        "colab": {}
      },
      "source": [
        "pip install tensorflow-gpu"
      ],
      "execution_count": 0,
      "outputs": []
    },
    {
      "cell_type": "code",
      "metadata": {
        "id": "OAZ7jG-h5qec",
        "colab_type": "code",
        "outputId": "7f33503d-f602-4276-a14a-b3c467972ee2",
        "colab": {
          "base_uri": "https://localhost:8080/",
          "height": 34
        }
      },
      "source": [
        "!ls \"/content/drive/My Drive/Machine_Learning/sign_images\" -a"
      ],
      "execution_count": 0,
      "outputs": [
        {
          "output_type": "stream",
          "text": [
            "00000  00001  00002  00003  00004\n"
          ],
          "name": "stdout"
        }
      ]
    },
    {
      "cell_type": "code",
      "metadata": {
        "id": "7KQzBFXm5qjm",
        "colab_type": "code",
        "outputId": "03f61ec4-c7d2-431a-c04c-aade2ca1ee5d",
        "colab": {
          "base_uri": "https://localhost:8080/",
          "height": 34
        }
      },
      "source": [
        "import tensorflow as tf\n",
        "print(tf.__version__)"
      ],
      "execution_count": 0,
      "outputs": [
        {
          "output_type": "stream",
          "text": [
            "2.1.0\n"
          ],
          "name": "stdout"
        }
      ]
    },
    {
      "cell_type": "code",
      "metadata": {
        "id": "7PpkQgL6o-Hc",
        "colab_type": "code",
        "colab": {}
      },
      "source": [
        "from PIL import Image\n",
        "import numpy as np\n",
        "import os\n",
        "\n",
        "train_images = []\n",
        "train_labels = []\n",
        "count = -1\n",
        "for dirc in sorted(os.listdir('/content/drive/My Drive/Machine_Learning/sign_images')):\n",
        "    if (count < 0):\n",
        "        count += 1\n",
        "        continue\n",
        "    if (count > 2):\n",
        "        continue\n",
        "    for img_path in os.listdir('/content/drive/My Drive/Machine_Learning/sign_images/' + str(dirc)):\n",
        "        try:\n",
        "            im = Image.open('/content/drive/My Drive/Machine_Learning/sign_images/' + str(dirc) + \"/\" + str(img_path))\n",
        "            im = im.resize((100, 100))\n",
        "            train_images.append(np.array(im))\n",
        "            train_labels.append(count - 1)\n",
        "        except:\n",
        "            continue\n",
        "    count += 1\n",
        "    print('Reading ' + str(dirc))"
      ],
      "execution_count": 0,
      "outputs": []
    },
    {
      "cell_type": "code",
      "metadata": {
        "id": "WfJDqT0NpMg_",
        "colab_type": "code",
        "colab": {}
      },
      "source": [
        "np.unique(train_labels)"
      ],
      "execution_count": 0,
      "outputs": []
    },
    {
      "cell_type": "code",
      "metadata": {
        "id": "F33z1WsQp7mD",
        "colab_type": "code",
        "outputId": "c9bb2354-6860-400b-cff0-d9ede786e64d",
        "colab": {
          "base_uri": "https://localhost:8080/",
          "height": 34
        }
      },
      "source": [
        "np.shape(train_labels)"
      ],
      "execution_count": 0,
      "outputs": [
        {
          "output_type": "execute_result",
          "data": {
            "text/plain": [
              "(4480,)"
            ]
          },
          "metadata": {
            "tags": []
          },
          "execution_count": 8
        }
      ]
    },
    {
      "cell_type": "code",
      "metadata": {
        "id": "xjpWBvlYp-NC",
        "colab_type": "code",
        "outputId": "829c358d-2d7b-4a4b-ce46-f2612280932c",
        "colab": {
          "base_uri": "https://localhost:8080/",
          "height": 34
        }
      },
      "source": [
        "train_labels = np.reshape(train_labels, (-1, 1))\n",
        "np.shape(train_labels)"
      ],
      "execution_count": 0,
      "outputs": [
        {
          "output_type": "execute_result",
          "data": {
            "text/plain": [
              "(4480, 1)"
            ]
          },
          "metadata": {
            "tags": []
          },
          "execution_count": 9
        }
      ]
    },
    {
      "cell_type": "code",
      "metadata": {
        "id": "LJYrq0llqArT",
        "colab_type": "code",
        "colab": {}
      },
      "source": [
        "from sklearn.preprocessing import OneHotEncoder\n",
        "enc = OneHotEncoder()\n",
        "train_labels = enc.fit_transform(train_labels).toarray()"
      ],
      "execution_count": 0,
      "outputs": []
    },
    {
      "cell_type": "code",
      "metadata": {
        "id": "aDcgKUmcqHTz",
        "colab_type": "code",
        "outputId": "87e45e64-6c9c-499b-fd4b-a3c853bab616",
        "colab": {
          "base_uri": "https://localhost:8080/",
          "height": 34
        }
      },
      "source": [
        "np.shape(train_labels)"
      ],
      "execution_count": 0,
      "outputs": [
        {
          "output_type": "execute_result",
          "data": {
            "text/plain": [
              "(4480, 2)"
            ]
          },
          "metadata": {
            "tags": []
          },
          "execution_count": 11
        }
      ]
    },
    {
      "cell_type": "code",
      "metadata": {
        "id": "h7tEwUwpqO6D",
        "colab_type": "code",
        "outputId": "c90f70b2-6915-48aa-cbcc-30d98154237f",
        "colab": {
          "base_uri": "https://localhost:8080/",
          "height": 34
        }
      },
      "source": [
        "np.shape(train_images)"
      ],
      "execution_count": 0,
      "outputs": [
        {
          "output_type": "execute_result",
          "data": {
            "text/plain": [
              "(4480, 100, 100, 3)"
            ]
          },
          "metadata": {
            "tags": []
          },
          "execution_count": 12
        }
      ]
    },
    {
      "cell_type": "code",
      "metadata": {
        "id": "9hxYkUcuqSIU",
        "colab_type": "code",
        "colab": {}
      },
      "source": [
        "train_images = np.array(train_images) / 255.0"
      ],
      "execution_count": 0,
      "outputs": []
    },
    {
      "cell_type": "code",
      "metadata": {
        "id": "ouw2nX1eqkJi",
        "colab_type": "code",
        "colab": {}
      },
      "source": [
        "from tensorflow.keras.layers import Dense, Flatten, Conv2D, MaxPool2D, Dropout\n",
        "from tensorflow.keras import Model"
      ],
      "execution_count": 0,
      "outputs": []
    },
    {
      "cell_type": "code",
      "metadata": {
        "id": "agsCLD5lqk65",
        "colab_type": "code",
        "outputId": "017f913c-35ef-4980-bac6-11b3aff22b60",
        "colab": {
          "base_uri": "https://localhost:8080/",
          "height": 34
        }
      },
      "source": [
        "train_ds = tf.data.Dataset.from_tensor_slices((train_images, train_labels)).shuffle(10000).batch(32)\n",
        "train_ds"
      ],
      "execution_count": 0,
      "outputs": [
        {
          "output_type": "execute_result",
          "data": {
            "text/plain": [
              "<BatchDataset shapes: ((None, 100, 100, 3), (None, 2)), types: (tf.float64, tf.float64)>"
            ]
          },
          "metadata": {
            "tags": []
          },
          "execution_count": 15
        }
      ]
    },
    {
      "cell_type": "code",
      "metadata": {
        "id": "3vGvZYR_q2cw",
        "colab_type": "code",
        "colab": {}
      },
      "source": [
        "del train_images\n",
        "del train_labels\n",
        "import gc\n",
        "gc.collect()"
      ],
      "execution_count": 0,
      "outputs": []
    },
    {
      "cell_type": "code",
      "metadata": {
        "id": "v3rZOiWHq-Fu",
        "colab_type": "code",
        "colab": {}
      },
      "source": [
        "class CNNModel(Model):\n",
        "    def __init__(self):\n",
        "        super(CNNModel, self).__init__()\n",
        "        self.conv1 = Conv2D(32, 3, padding='same', activation='relu')\n",
        "        self.pool1 = MaxPool2D((2, 2))\n",
        "        self.conv2 = Conv2D(64, 3, padding='same', activation='relu')\n",
        "        self.pool2 = MaxPool2D((2, 2))\n",
        "        self.flatten = Flatten()\n",
        "        self.d1 = Dense(512, activation='relu')\n",
        "        self.dropout1 = Dropout(0.4)\n",
        "        self.d2 = Dense(128, activation='relu')\n",
        "        self.dropout2 = Dropout(0.4)\n",
        "        self.d3 = Dense(2, activation='softmax')\n",
        "    def call(self, x):\n",
        "        x = self.conv1(x)\n",
        "        x = self.pool1(x)\n",
        "        x = self.conv2(x)\n",
        "        x = self.pool2(x)\n",
        "        x = self.flatten(x)\n",
        "        x = self.d1(x)\n",
        "        x = self.dropout1(x)\n",
        "        x = self.d2(x)\n",
        "        x = self.dropout2(x)\n",
        "        x = self.d3(x)\n",
        "        return x\n",
        "\n",
        "model = CNNModel()"
      ],
      "execution_count": 0,
      "outputs": []
    },
    {
      "cell_type": "code",
      "metadata": {
        "id": "OxICuQ0rrBTF",
        "colab_type": "code",
        "colab": {}
      },
      "source": [
        "loss_object = tf.keras.losses.CategoricalCrossentropy()\n",
        "optimizer = tf.keras.optimizers.Adam()\n",
        "train_loss = tf.keras.metrics.Mean(name='train_loss')\n",
        "train_accuracy = tf.keras.metrics.CategoricalAccuracy(name='train_accuracy')"
      ],
      "execution_count": 0,
      "outputs": []
    },
    {
      "cell_type": "code",
      "metadata": {
        "id": "Fmid_ZOlrDyl",
        "colab_type": "code",
        "colab": {}
      },
      "source": [
        "@tf.function\n",
        "def train_step(images, labels):\n",
        "    with tf.GradientTape() as tape:\n",
        "        predictions = model(images)\n",
        "        loss = loss_object(labels, predictions)\n",
        "    gradients = tape.gradient(loss, model.trainable_variables)\n",
        "    optimizer.apply_gradients(zip(gradients, model.trainable_variables))\n",
        "    \n",
        "    train_loss(loss)\n",
        "    train_accuracy(labels, predictions)"
      ],
      "execution_count": 0,
      "outputs": []
    },
    {
      "cell_type": "code",
      "metadata": {
        "id": "LETTPDzPrGs0",
        "colab_type": "code",
        "outputId": "4a56193a-28e7-436b-8806-b699ba4a8141",
        "colab": {
          "base_uri": "https://localhost:8080/",
          "height": 187
        }
      },
      "source": [
        "epochs = 10\n",
        "for epoch in range(epochs):\n",
        "    for images, labels in train_ds:\n",
        "        train_step(images, labels)\n",
        "    model.save_weights('saved_models', save_format='tf')\n",
        "    print('Epoch: ' + str(epoch + 1) + ' Loss: ' + str(train_loss.result()), ' Acc: ' + str(train_accuracy.result() * 100))\n",
        "    train_loss.reset_states()\n",
        "    train_accuracy.reset_states()"
      ],
      "execution_count": 0,
      "outputs": [
        {
          "output_type": "stream",
          "text": [
            "Epoch: 1 Loss: tf.Tensor(0.022242397, shape=(), dtype=float32)  Acc: tf.Tensor(99.21875, shape=(), dtype=float32)\n",
            "Epoch: 2 Loss: tf.Tensor(0.02025445, shape=(), dtype=float32)  Acc: tf.Tensor(99.41964, shape=(), dtype=float32)\n",
            "Epoch: 3 Loss: tf.Tensor(0.02292676, shape=(), dtype=float32)  Acc: tf.Tensor(99.040184, shape=(), dtype=float32)\n",
            "Epoch: 4 Loss: tf.Tensor(0.024775414, shape=(), dtype=float32)  Acc: tf.Tensor(99.1741, shape=(), dtype=float32)\n",
            "Epoch: 5 Loss: tf.Tensor(0.02421321, shape=(), dtype=float32)  Acc: tf.Tensor(99.24107, shape=(), dtype=float32)\n",
            "Epoch: 6 Loss: tf.Tensor(0.016320234, shape=(), dtype=float32)  Acc: tf.Tensor(99.48661, shape=(), dtype=float32)\n",
            "Epoch: 7 Loss: tf.Tensor(0.0013564806, shape=(), dtype=float32)  Acc: tf.Tensor(100.0, shape=(), dtype=float32)\n",
            "Epoch: 8 Loss: tf.Tensor(0.00019864377, shape=(), dtype=float32)  Acc: tf.Tensor(100.0, shape=(), dtype=float32)\n",
            "Epoch: 9 Loss: tf.Tensor(8.018793e-05, shape=(), dtype=float32)  Acc: tf.Tensor(100.0, shape=(), dtype=float32)\n",
            "Epoch: 10 Loss: tf.Tensor(5.5282777e-05, shape=(), dtype=float32)  Acc: tf.Tensor(100.0, shape=(), dtype=float32)\n"
          ],
          "name": "stdout"
        }
      ]
    }
  ]
}